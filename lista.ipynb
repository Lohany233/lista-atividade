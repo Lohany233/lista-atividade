{
 "cells": [
  {
   "cell_type": "code",
   "execution_count": 2,
   "id": "e1ce331f-90f7-4f39-9d8f-29fe79b1375f",
   "metadata": {},
   "outputs": [
    {
     "data": {
      "text/plain": [
       "[15, 14, 13, 12, 11, 10, 9, 8, 7, 6, 5, 4, 3, 2, 1, 0]"
      ]
     },
     "execution_count": 2,
     "metadata": {},
     "output_type": "execute_result"
    }
   ],
   "source": [
    "list= [0,1,2,3,4,5,6,7,8,9,10,11,12,13,14,15] \n",
    "list [::-1]"
   ]
  },
  {
   "cell_type": "code",
   "execution_count": 5,
   "id": "1a857035-32b7-420a-b41d-b5cac40d4355",
   "metadata": {},
   "outputs": [
    {
     "data": {
      "text/plain": [
       "[1, 2, 3, 4, 5, 6, 7, 8, 9]"
      ]
     },
     "execution_count": 5,
     "metadata": {},
     "output_type": "execute_result"
    }
   ],
   "source": [
    "list[1:10]"
   ]
  },
  {
   "cell_type": "code",
   "execution_count": 6,
   "id": "42565dc8-01d2-4f7e-82c5-68db75498262",
   "metadata": {},
   "outputs": [
    {
     "data": {
      "text/plain": [
       "[1, 3, 5, 7, 9, 11, 13, 15]"
      ]
     },
     "execution_count": 6,
     "metadata": {},
     "output_type": "execute_result"
    }
   ],
   "source": [
    "list[1::2]"
   ]
  },
  {
   "cell_type": "code",
   "execution_count": null,
   "id": "bbe0207e-827d-443f-bdc0-409d718466a2",
   "metadata": {},
   "outputs": [],
   "source": []
  }
 ],
 "metadata": {
  "kernelspec": {
   "display_name": "Python 3 (ipykernel)",
   "language": "python",
   "name": "python3"
  },
  "language_info": {
   "codemirror_mode": {
    "name": "ipython",
    "version": 3
   },
   "file_extension": ".py",
   "mimetype": "text/x-python",
   "name": "python",
   "nbconvert_exporter": "python",
   "pygments_lexer": "ipython3",
   "version": "3.11.2"
  }
 },
 "nbformat": 4,
 "nbformat_minor": 5
}
